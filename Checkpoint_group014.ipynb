{
 "cells": [
  {
   "cell_type": "markdown",
   "metadata": {},
   "source": [
    "# Online Shopper Purchasing Prediction - Project Checkpoint"
   ]
  },
  {
   "cell_type": "markdown",
   "metadata": {},
   "source": [
    "# Names\n",
    "\n",
    "- Jiayi Zhao\n",
    "- Beibei Du\n",
    "- Hongfei Lyu\n",
    "- Meijiang Shen\n",
    "- Shirui Huang"
   ]
  },
  {
   "cell_type": "markdown",
   "metadata": {},
   "source": [
    "## Abstract \n",
    "With the shift to digital life, online shopping becomes the major source of consumer consumption for its convenient features and personalized settings. It would be highly profitable if we can learn the patterns and attribution of consumer purchase decisions either for companies to predict and increase profits or to further personalize consumer experiences. Thus, in our project, we aim to predict the final purchase decisions of consumers based on their shopping behaviors. We employ the “Online Shoppers Purchasing Intention” dataset from UCI Machine Learning Repository measuring various aspects of consumer shopping behaviors including time-spent on page, number of pages browsed, special days influence, etc. Then we apply various machine learning models such as logistic regression, K-NN, and decision trees to fit the data and use confusion matrix and classification accuracy as the metrics to evaluate the performance of our models."
   ]
  },
  {
   "cell_type": "markdown",
   "metadata": {},
   "source": [
    "## Background\n",
    "\n",
    "As people are more prone to spending time on shopping online rather than physical shopping in the mall, there are astronomical amounts of merchants deciding to sell their products online or hybrid to gain more profits/ for marketing reasons. Specifically, people choose websites/Apps like Amazon, Ebay, Instacart, etc. Especially during the COVID-19 pandemic, with the condition of quarantine, many people purchase things on their phone/electrical devices and get them delivered. No matter in what case, voluntarily or involuntarily, online shopping becomes both recreational and convenient tools for the customers. While the customers tried to benefit from the online shopping, the online stores needed to target more customers and analyze their behaviors to maximize their benefits. Thus an evaluation process of whether the customers will purchase the product or not becomes the core question the businesses want to answer. As mentioned in *Performance Study of Classification Algorithms for Consumer Online Shopping Attitudes and Behavior Using Data Mining, data mining including the machine learning* has been useful in “to help online shopping stores to identify online customer behavior to recommend for him the appropriate products he/she is interesting to them” <a name=\"rana\"></a>[<sup>[1]</sup>](#rananote). Machine learning has been used as a quantitative solution to the question on how the merchants decide whether the customers will purchase the item or not based on their behaviors. Using classification to detect the patterns of the customer's purchasing intention will benefit the purchase rate. \n",
    "\n",
    "On the other hand, many other machine learning algorithms have been prevalent in answering the question on how to determine the customer’s purchasing intentions. In *Real-time prediction of online shoppers’ purchasing intention using multilayer perceptron and LSTM recurrent neural networks*, they fed the informational data into algorithms such as random forest, multilayer perceptron and support vector machines<a name=\"sakar\"></a>[<sup>[2]</sup>](#sakarnote). No matter what algorithms are being used, they all aim to predict the intention behind purchaser’s behaviors to change merchant’s e-commerce strategies to double win. Combined with the two papers, they used both supervised and unsupervised machine learning algorithms. For example, in *Web usage mining to improve the design of an e-commerce website: OrOliveSur.com*, they tried to use these machine learning algorithms to achieve the better design of the e-commerce website to attract more customers to purchase the items<a name=\"carmona\"></a>[<sup>[3]</sup>](#carmonanote).\n",
    "\n",
    "Based on the existing studies on online shoppers intention study, customers can get a sense of how they can improve their e-commerce websites and strategies to benefit their customers’ shopping experience while they can also get profits at the same time. In our study of prediction of online shopper’s intentions, by predicting whether they purchase the items or not using multiple supervised machine learning algorithms, the merchants could provide further solutions/revisions to the current e-commerce system."
   ]
  },
  {
   "cell_type": "markdown",
   "metadata": {},
   "source": [
    "## Problem Statement\n",
    "\n",
    "How can we predict the final purchase decisions of consumers based on their online shopping behaviors like the type of visitor? What model we use such as logistic regression, K-NN, and decision tree has the best performance on predicting the purchase decisions?"
   ]
  },
  {
   "cell_type": "markdown",
   "metadata": {},
   "source": [
    "## Data\n",
    "\n",
    "- UCI Machine Learning Repository (https://archive.ics.uci.edu/ml/datasets/Online+Shoppers+Purchasing+Intention+Dataset#)\n",
    "    - It contains 12,330 observations where each observation belongs to a different user in a one-year period to avoid the tendency to a specific campaign, day, user profile, or period. \n",
    "    - It has 18 variables where 17 of them represents the information about a particular customer, such as if this customer is viewing this page at a special holiday, or how long this customer spent on this page; the \"Revenue\" variable represents whether this customer made a purchase, which will be the label for our model. \n",
    "        1. Administrative: The number of pages of administrative that the user visited.\n",
    "        2. Administrative_Duration: The amount of time spent in Administrative pages.\n",
    "        3. Informational: The number of pages of informational that the user visited.\n",
    "        4. Informational_Duration: The amount of time spent in Informational pages.\n",
    "        5. ProductRelated: The number of pages of product related that the user visited.\n",
    "        6. ProductRelated_Duration: This is the amount of time spent in ProductRelated pages.\n",
    "        7. BounceRates: The percentage of visitors who enter the website through that page and exit without triggering any additional tasks.\n",
    "        8. ExitRates: The percentage of pageviews on the website that end at that specific page.\n",
    "        9. PageValues: The average value of the page averaged over the value of the target page and/or the completion of an eCommerce\n",
    "        10. SpecialDay: The closeness of the browsing date to special days or holidays (eg Mother's Day or Valentine's day) in\n",
    "        11. Month: The month the pageview occurred, in string form.\n",
    "        12. OperatingSystems: An integer value representing the operating system that the user was on when viewing the page.\n",
    "        13. Browser: An integer value representing the browser that the user was using to view the page.\n",
    "        14. Region: An integer value representing which region the user is located in.\n",
    "        15. TrafficType: An integer value representing what type of traffic the user is categorized into.\n",
    "        16. VisitorType: A string representing whether a visitor is New Visitor, Returning Visitor, or Other.\n",
    "        17. Weekend: A boolean representing whether the session is on a weekend.\n",
    "        18. Revenue: A boolean representing whether or not the user completed the purchase.\n",
    "\n",
    "    - However, some of the variables, such as \"Region\" and \"Operating System\", are represented as a number 1 to 9 but so far there is not much information about what those numbers represent. Those variables may require future investigations and information to be interpreted."
   ]
  },
  {
   "cell_type": "markdown",
   "metadata": {},
   "source": [
    "## Setup"
   ]
  },
  {
   "cell_type": "code",
   "execution_count": 1,
   "metadata": {},
   "outputs": [],
   "source": [
    "# Import pandas to read csv file and manage heterogenous data\n",
    "import pandas as pd\n",
    "\n",
    "# Import numpy to store numeric information and perform numerical analysis\n",
    "import numpy as np"
   ]
  },
  {
   "cell_type": "markdown",
   "metadata": {},
   "source": [
    "## Data Cleaning & Data Wrangling"
   ]
  },
  {
   "cell_type": "code",
   "execution_count": 2,
   "metadata": {},
   "outputs": [
    {
     "data": {
      "text/html": [
       "<div>\n",
       "<style scoped>\n",
       "    .dataframe tbody tr th:only-of-type {\n",
       "        vertical-align: middle;\n",
       "    }\n",
       "\n",
       "    .dataframe tbody tr th {\n",
       "        vertical-align: top;\n",
       "    }\n",
       "\n",
       "    .dataframe thead th {\n",
       "        text-align: right;\n",
       "    }\n",
       "</style>\n",
       "<table border=\"1\" class=\"dataframe\">\n",
       "  <thead>\n",
       "    <tr style=\"text-align: right;\">\n",
       "      <th></th>\n",
       "      <th>Administrative</th>\n",
       "      <th>Administrative_Duration</th>\n",
       "      <th>Informational</th>\n",
       "      <th>Informational_Duration</th>\n",
       "      <th>ProductRelated</th>\n",
       "      <th>ProductRelated_Duration</th>\n",
       "      <th>BounceRates</th>\n",
       "      <th>ExitRates</th>\n",
       "      <th>PageValues</th>\n",
       "      <th>SpecialDay</th>\n",
       "      <th>Month</th>\n",
       "      <th>OperatingSystems</th>\n",
       "      <th>Browser</th>\n",
       "      <th>Region</th>\n",
       "      <th>TrafficType</th>\n",
       "      <th>VisitorType</th>\n",
       "      <th>Weekend</th>\n",
       "      <th>Revenue</th>\n",
       "    </tr>\n",
       "  </thead>\n",
       "  <tbody>\n",
       "    <tr>\n",
       "      <th>0</th>\n",
       "      <td>0</td>\n",
       "      <td>0.0</td>\n",
       "      <td>0</td>\n",
       "      <td>0.0</td>\n",
       "      <td>1</td>\n",
       "      <td>0.000000</td>\n",
       "      <td>0.20</td>\n",
       "      <td>0.20</td>\n",
       "      <td>0.0</td>\n",
       "      <td>0.0</td>\n",
       "      <td>Feb</td>\n",
       "      <td>1</td>\n",
       "      <td>1</td>\n",
       "      <td>1</td>\n",
       "      <td>1</td>\n",
       "      <td>Returning_Visitor</td>\n",
       "      <td>False</td>\n",
       "      <td>False</td>\n",
       "    </tr>\n",
       "    <tr>\n",
       "      <th>1</th>\n",
       "      <td>0</td>\n",
       "      <td>0.0</td>\n",
       "      <td>0</td>\n",
       "      <td>0.0</td>\n",
       "      <td>2</td>\n",
       "      <td>64.000000</td>\n",
       "      <td>0.00</td>\n",
       "      <td>0.10</td>\n",
       "      <td>0.0</td>\n",
       "      <td>0.0</td>\n",
       "      <td>Feb</td>\n",
       "      <td>2</td>\n",
       "      <td>2</td>\n",
       "      <td>1</td>\n",
       "      <td>2</td>\n",
       "      <td>Returning_Visitor</td>\n",
       "      <td>False</td>\n",
       "      <td>False</td>\n",
       "    </tr>\n",
       "    <tr>\n",
       "      <th>2</th>\n",
       "      <td>0</td>\n",
       "      <td>0.0</td>\n",
       "      <td>0</td>\n",
       "      <td>0.0</td>\n",
       "      <td>1</td>\n",
       "      <td>0.000000</td>\n",
       "      <td>0.20</td>\n",
       "      <td>0.20</td>\n",
       "      <td>0.0</td>\n",
       "      <td>0.0</td>\n",
       "      <td>Feb</td>\n",
       "      <td>4</td>\n",
       "      <td>1</td>\n",
       "      <td>9</td>\n",
       "      <td>3</td>\n",
       "      <td>Returning_Visitor</td>\n",
       "      <td>False</td>\n",
       "      <td>False</td>\n",
       "    </tr>\n",
       "    <tr>\n",
       "      <th>3</th>\n",
       "      <td>0</td>\n",
       "      <td>0.0</td>\n",
       "      <td>0</td>\n",
       "      <td>0.0</td>\n",
       "      <td>2</td>\n",
       "      <td>2.666667</td>\n",
       "      <td>0.05</td>\n",
       "      <td>0.14</td>\n",
       "      <td>0.0</td>\n",
       "      <td>0.0</td>\n",
       "      <td>Feb</td>\n",
       "      <td>3</td>\n",
       "      <td>2</td>\n",
       "      <td>2</td>\n",
       "      <td>4</td>\n",
       "      <td>Returning_Visitor</td>\n",
       "      <td>False</td>\n",
       "      <td>False</td>\n",
       "    </tr>\n",
       "    <tr>\n",
       "      <th>4</th>\n",
       "      <td>0</td>\n",
       "      <td>0.0</td>\n",
       "      <td>0</td>\n",
       "      <td>0.0</td>\n",
       "      <td>10</td>\n",
       "      <td>627.500000</td>\n",
       "      <td>0.02</td>\n",
       "      <td>0.05</td>\n",
       "      <td>0.0</td>\n",
       "      <td>0.0</td>\n",
       "      <td>Feb</td>\n",
       "      <td>3</td>\n",
       "      <td>3</td>\n",
       "      <td>1</td>\n",
       "      <td>4</td>\n",
       "      <td>Returning_Visitor</td>\n",
       "      <td>True</td>\n",
       "      <td>False</td>\n",
       "    </tr>\n",
       "  </tbody>\n",
       "</table>\n",
       "</div>"
      ],
      "text/plain": [
       "   Administrative  Administrative_Duration  Informational  \\\n",
       "0               0                      0.0              0   \n",
       "1               0                      0.0              0   \n",
       "2               0                      0.0              0   \n",
       "3               0                      0.0              0   \n",
       "4               0                      0.0              0   \n",
       "\n",
       "   Informational_Duration  ProductRelated  ProductRelated_Duration  \\\n",
       "0                     0.0               1                 0.000000   \n",
       "1                     0.0               2                64.000000   \n",
       "2                     0.0               1                 0.000000   \n",
       "3                     0.0               2                 2.666667   \n",
       "4                     0.0              10               627.500000   \n",
       "\n",
       "   BounceRates  ExitRates  PageValues  SpecialDay Month  OperatingSystems  \\\n",
       "0         0.20       0.20         0.0         0.0   Feb                 1   \n",
       "1         0.00       0.10         0.0         0.0   Feb                 2   \n",
       "2         0.20       0.20         0.0         0.0   Feb                 4   \n",
       "3         0.05       0.14         0.0         0.0   Feb                 3   \n",
       "4         0.02       0.05         0.0         0.0   Feb                 3   \n",
       "\n",
       "   Browser  Region  TrafficType        VisitorType  Weekend  Revenue  \n",
       "0        1       1            1  Returning_Visitor    False    False  \n",
       "1        2       1            2  Returning_Visitor    False    False  \n",
       "2        1       9            3  Returning_Visitor    False    False  \n",
       "3        2       2            4  Returning_Visitor    False    False  \n",
       "4        3       1            4  Returning_Visitor     True    False  "
      ]
     },
     "execution_count": 2,
     "metadata": {},
     "output_type": "execute_result"
    }
   ],
   "source": [
    "# Import the dataframe\n",
    "df = pd.read_csv(\"online_shoppers_intention.csv\")\n",
    "df.head()"
   ]
  },
  {
   "cell_type": "markdown",
   "metadata": {},
   "source": [
    "We first want to check the data type of each column element and convert nonnumeric element into numeric value and categorical feature into a set of binary features."
   ]
  },
  {
   "cell_type": "code",
   "execution_count": 3,
   "metadata": {},
   "outputs": [
    {
     "data": {
      "text/plain": [
       "Administrative               int64\n",
       "Administrative_Duration    float64\n",
       "Informational                int64\n",
       "Informational_Duration     float64\n",
       "ProductRelated               int64\n",
       "ProductRelated_Duration    float64\n",
       "BounceRates                float64\n",
       "ExitRates                  float64\n",
       "PageValues                 float64\n",
       "SpecialDay                 float64\n",
       "Month                       object\n",
       "OperatingSystems             int64\n",
       "Browser                      int64\n",
       "Region                       int64\n",
       "TrafficType                  int64\n",
       "VisitorType                 object\n",
       "Weekend                       bool\n",
       "Purchase                      bool\n",
       "dtype: object"
      ]
     },
     "execution_count": 3,
     "metadata": {},
     "output_type": "execute_result"
    }
   ],
   "source": [
    "df = df.rename(columns={'Revenue': 'Purchase'})\n",
    "df.dtypes"
   ]
  },
  {
   "cell_type": "code",
   "execution_count": 4,
   "metadata": {},
   "outputs": [],
   "source": [
    "# Convert unbinary element into binary value\n",
    "df[\"Purchase\"] = df[\"Purchase\"].replace([True, False],[1, 0])\n",
    "df[\"Weekend\"] = df[\"Weekend\"].replace([True, False],[1, 0])"
   ]
  },
  {
   "cell_type": "markdown",
   "metadata": {},
   "source": [
    "Since `Month`, `OperatingSystems`, `Browser`, `Region`, `TrafficType`, and `VisitorType` are categorical variable, we should use **one hot encoding** to convert a categorical feature into a set of binary features "
   ]
  },
  {
   "cell_type": "code",
   "execution_count": 5,
   "metadata": {},
   "outputs": [],
   "source": [
    "def one_hot(df, column):\n",
    "    \"\"\"\n",
    "    one hot encoding function to convert categorical feature into a set of binary features and append it to the dataframe\n",
    "    \n",
    "    Arguments:\n",
    "        df: DataFrame\n",
    "        column: str\n",
    "            the column that need to be one hot encoding\n",
    "    \"\"\" \n",
    "    # get the new binary features based on the given column\n",
    "    onehot = pd.get_dummies(df[column]).astype(int)\n",
    "    # rename the new columns\n",
    "    onehot.columns = [column + '_' + str(x) for x in onehot.columns]\n",
    "    # drop the original column\n",
    "    tmp = df.drop(columns = [column])\n",
    "    # concate the new columns to the dataframe\n",
    "    tmp = pd.concat([onehot, tmp], axis=1)\n",
    "    return tmp"
   ]
  },
  {
   "cell_type": "code",
   "execution_count": 6,
   "metadata": {},
   "outputs": [],
   "source": [
    "categorical_cols = ['VisitorType', 'Month', 'OperatingSystems', 'Region', 'TrafficType', 'Browser']\n",
    "for c in categorical_cols:\n",
    "    df = one_hot(df, c)"
   ]
  },
  {
   "cell_type": "code",
   "execution_count": 7,
   "metadata": {},
   "outputs": [
    {
     "data": {
      "text/plain": [
       "Index(['Browser_1', 'Browser_2', 'Browser_3', 'Browser_4', 'Browser_5',\n",
       "       'Browser_6', 'Browser_7', 'Browser_8', 'Browser_9', 'Browser_10',\n",
       "       'Browser_11', 'Browser_12', 'Browser_13', 'TrafficType_1',\n",
       "       'TrafficType_2', 'TrafficType_3', 'TrafficType_4', 'TrafficType_5',\n",
       "       'TrafficType_6', 'TrafficType_7', 'TrafficType_8', 'TrafficType_9',\n",
       "       'TrafficType_10', 'TrafficType_11', 'TrafficType_12', 'TrafficType_13',\n",
       "       'TrafficType_14', 'TrafficType_15', 'TrafficType_16', 'TrafficType_17',\n",
       "       'TrafficType_18', 'TrafficType_19', 'TrafficType_20', 'Region_1',\n",
       "       'Region_2', 'Region_3', 'Region_4', 'Region_5', 'Region_6', 'Region_7',\n",
       "       'Region_8', 'Region_9', 'OperatingSystems_1', 'OperatingSystems_2',\n",
       "       'OperatingSystems_3', 'OperatingSystems_4', 'OperatingSystems_5',\n",
       "       'OperatingSystems_6', 'OperatingSystems_7', 'OperatingSystems_8',\n",
       "       'Month_Aug', 'Month_Dec', 'Month_Feb', 'Month_Jul', 'Month_June',\n",
       "       'Month_Mar', 'Month_May', 'Month_Nov', 'Month_Oct', 'Month_Sep',\n",
       "       'VisitorType_New_Visitor', 'VisitorType_Other',\n",
       "       'VisitorType_Returning_Visitor', 'Administrative',\n",
       "       'Administrative_Duration', 'Informational', 'Informational_Duration',\n",
       "       'ProductRelated', 'ProductRelated_Duration', 'BounceRates', 'ExitRates',\n",
       "       'PageValues', 'SpecialDay', 'Weekend', 'Purchase'],\n",
       "      dtype='object')"
      ]
     },
     "execution_count": 7,
     "metadata": {},
     "output_type": "execute_result"
    }
   ],
   "source": [
    "df.columns"
   ]
  },
  {
   "cell_type": "markdown",
   "metadata": {},
   "source": [
    "Take a look on the cleaned dataframe"
   ]
  },
  {
   "cell_type": "code",
   "execution_count": 8,
   "metadata": {},
   "outputs": [
    {
     "data": {
      "text/html": [
       "<div>\n",
       "<style scoped>\n",
       "    .dataframe tbody tr th:only-of-type {\n",
       "        vertical-align: middle;\n",
       "    }\n",
       "\n",
       "    .dataframe tbody tr th {\n",
       "        vertical-align: top;\n",
       "    }\n",
       "\n",
       "    .dataframe thead th {\n",
       "        text-align: right;\n",
       "    }\n",
       "</style>\n",
       "<table border=\"1\" class=\"dataframe\">\n",
       "  <thead>\n",
       "    <tr style=\"text-align: right;\">\n",
       "      <th></th>\n",
       "      <th>Browser_1</th>\n",
       "      <th>Browser_2</th>\n",
       "      <th>Browser_3</th>\n",
       "      <th>Browser_4</th>\n",
       "      <th>Browser_5</th>\n",
       "      <th>Browser_6</th>\n",
       "      <th>Browser_7</th>\n",
       "      <th>Browser_8</th>\n",
       "      <th>Browser_9</th>\n",
       "      <th>Browser_10</th>\n",
       "      <th>...</th>\n",
       "      <th>Informational</th>\n",
       "      <th>Informational_Duration</th>\n",
       "      <th>ProductRelated</th>\n",
       "      <th>ProductRelated_Duration</th>\n",
       "      <th>BounceRates</th>\n",
       "      <th>ExitRates</th>\n",
       "      <th>PageValues</th>\n",
       "      <th>SpecialDay</th>\n",
       "      <th>Weekend</th>\n",
       "      <th>Purchase</th>\n",
       "    </tr>\n",
       "  </thead>\n",
       "  <tbody>\n",
       "    <tr>\n",
       "      <th>0</th>\n",
       "      <td>1</td>\n",
       "      <td>0</td>\n",
       "      <td>0</td>\n",
       "      <td>0</td>\n",
       "      <td>0</td>\n",
       "      <td>0</td>\n",
       "      <td>0</td>\n",
       "      <td>0</td>\n",
       "      <td>0</td>\n",
       "      <td>0</td>\n",
       "      <td>...</td>\n",
       "      <td>0</td>\n",
       "      <td>0.0</td>\n",
       "      <td>1</td>\n",
       "      <td>0.000000</td>\n",
       "      <td>0.20</td>\n",
       "      <td>0.20</td>\n",
       "      <td>0.0</td>\n",
       "      <td>0.0</td>\n",
       "      <td>0</td>\n",
       "      <td>0</td>\n",
       "    </tr>\n",
       "    <tr>\n",
       "      <th>1</th>\n",
       "      <td>0</td>\n",
       "      <td>1</td>\n",
       "      <td>0</td>\n",
       "      <td>0</td>\n",
       "      <td>0</td>\n",
       "      <td>0</td>\n",
       "      <td>0</td>\n",
       "      <td>0</td>\n",
       "      <td>0</td>\n",
       "      <td>0</td>\n",
       "      <td>...</td>\n",
       "      <td>0</td>\n",
       "      <td>0.0</td>\n",
       "      <td>2</td>\n",
       "      <td>64.000000</td>\n",
       "      <td>0.00</td>\n",
       "      <td>0.10</td>\n",
       "      <td>0.0</td>\n",
       "      <td>0.0</td>\n",
       "      <td>0</td>\n",
       "      <td>0</td>\n",
       "    </tr>\n",
       "    <tr>\n",
       "      <th>2</th>\n",
       "      <td>1</td>\n",
       "      <td>0</td>\n",
       "      <td>0</td>\n",
       "      <td>0</td>\n",
       "      <td>0</td>\n",
       "      <td>0</td>\n",
       "      <td>0</td>\n",
       "      <td>0</td>\n",
       "      <td>0</td>\n",
       "      <td>0</td>\n",
       "      <td>...</td>\n",
       "      <td>0</td>\n",
       "      <td>0.0</td>\n",
       "      <td>1</td>\n",
       "      <td>0.000000</td>\n",
       "      <td>0.20</td>\n",
       "      <td>0.20</td>\n",
       "      <td>0.0</td>\n",
       "      <td>0.0</td>\n",
       "      <td>0</td>\n",
       "      <td>0</td>\n",
       "    </tr>\n",
       "    <tr>\n",
       "      <th>3</th>\n",
       "      <td>0</td>\n",
       "      <td>1</td>\n",
       "      <td>0</td>\n",
       "      <td>0</td>\n",
       "      <td>0</td>\n",
       "      <td>0</td>\n",
       "      <td>0</td>\n",
       "      <td>0</td>\n",
       "      <td>0</td>\n",
       "      <td>0</td>\n",
       "      <td>...</td>\n",
       "      <td>0</td>\n",
       "      <td>0.0</td>\n",
       "      <td>2</td>\n",
       "      <td>2.666667</td>\n",
       "      <td>0.05</td>\n",
       "      <td>0.14</td>\n",
       "      <td>0.0</td>\n",
       "      <td>0.0</td>\n",
       "      <td>0</td>\n",
       "      <td>0</td>\n",
       "    </tr>\n",
       "    <tr>\n",
       "      <th>4</th>\n",
       "      <td>0</td>\n",
       "      <td>0</td>\n",
       "      <td>1</td>\n",
       "      <td>0</td>\n",
       "      <td>0</td>\n",
       "      <td>0</td>\n",
       "      <td>0</td>\n",
       "      <td>0</td>\n",
       "      <td>0</td>\n",
       "      <td>0</td>\n",
       "      <td>...</td>\n",
       "      <td>0</td>\n",
       "      <td>0.0</td>\n",
       "      <td>10</td>\n",
       "      <td>627.500000</td>\n",
       "      <td>0.02</td>\n",
       "      <td>0.05</td>\n",
       "      <td>0.0</td>\n",
       "      <td>0.0</td>\n",
       "      <td>1</td>\n",
       "      <td>0</td>\n",
       "    </tr>\n",
       "  </tbody>\n",
       "</table>\n",
       "<p>5 rows × 75 columns</p>\n",
       "</div>"
      ],
      "text/plain": [
       "   Browser_1  Browser_2  Browser_3  Browser_4  Browser_5  Browser_6  \\\n",
       "0          1          0          0          0          0          0   \n",
       "1          0          1          0          0          0          0   \n",
       "2          1          0          0          0          0          0   \n",
       "3          0          1          0          0          0          0   \n",
       "4          0          0          1          0          0          0   \n",
       "\n",
       "   Browser_7  Browser_8  Browser_9  Browser_10  ...  Informational  \\\n",
       "0          0          0          0           0  ...              0   \n",
       "1          0          0          0           0  ...              0   \n",
       "2          0          0          0           0  ...              0   \n",
       "3          0          0          0           0  ...              0   \n",
       "4          0          0          0           0  ...              0   \n",
       "\n",
       "   Informational_Duration  ProductRelated  ProductRelated_Duration  \\\n",
       "0                     0.0               1                 0.000000   \n",
       "1                     0.0               2                64.000000   \n",
       "2                     0.0               1                 0.000000   \n",
       "3                     0.0               2                 2.666667   \n",
       "4                     0.0              10               627.500000   \n",
       "\n",
       "   BounceRates  ExitRates  PageValues  SpecialDay  Weekend  Purchase  \n",
       "0         0.20       0.20         0.0         0.0        0         0  \n",
       "1         0.00       0.10         0.0         0.0        0         0  \n",
       "2         0.20       0.20         0.0         0.0        0         0  \n",
       "3         0.05       0.14         0.0         0.0        0         0  \n",
       "4         0.02       0.05         0.0         0.0        1         0  \n",
       "\n",
       "[5 rows x 75 columns]"
      ]
     },
     "execution_count": 8,
     "metadata": {},
     "output_type": "execute_result"
    }
   ],
   "source": [
    "df.head()"
   ]
  },
  {
   "cell_type": "markdown",
   "metadata": {},
   "source": [
    "## Exploratory Data Analysis (EDA)"
   ]
  },
  {
   "cell_type": "code",
   "execution_count": 9,
   "metadata": {},
   "outputs": [
    {
     "data": {
      "text/html": [
       "<div>\n",
       "<style scoped>\n",
       "    .dataframe tbody tr th:only-of-type {\n",
       "        vertical-align: middle;\n",
       "    }\n",
       "\n",
       "    .dataframe tbody tr th {\n",
       "        vertical-align: top;\n",
       "    }\n",
       "\n",
       "    .dataframe thead th {\n",
       "        text-align: right;\n",
       "    }\n",
       "</style>\n",
       "<table border=\"1\" class=\"dataframe\">\n",
       "  <thead>\n",
       "    <tr style=\"text-align: right;\">\n",
       "      <th></th>\n",
       "      <th>Browser_1</th>\n",
       "      <th>Browser_2</th>\n",
       "      <th>Browser_3</th>\n",
       "      <th>Browser_4</th>\n",
       "      <th>Browser_5</th>\n",
       "      <th>Browser_6</th>\n",
       "      <th>Browser_7</th>\n",
       "      <th>Browser_8</th>\n",
       "      <th>Browser_9</th>\n",
       "      <th>Browser_10</th>\n",
       "      <th>...</th>\n",
       "      <th>Informational</th>\n",
       "      <th>Informational_Duration</th>\n",
       "      <th>ProductRelated</th>\n",
       "      <th>ProductRelated_Duration</th>\n",
       "      <th>BounceRates</th>\n",
       "      <th>ExitRates</th>\n",
       "      <th>PageValues</th>\n",
       "      <th>SpecialDay</th>\n",
       "      <th>Weekend</th>\n",
       "      <th>Purchase</th>\n",
       "    </tr>\n",
       "  </thead>\n",
       "  <tbody>\n",
       "    <tr>\n",
       "      <th>count</th>\n",
       "      <td>12330.000000</td>\n",
       "      <td>12330.000000</td>\n",
       "      <td>12330.000000</td>\n",
       "      <td>12330.000000</td>\n",
       "      <td>12330.000000</td>\n",
       "      <td>12330.000000</td>\n",
       "      <td>12330.000000</td>\n",
       "      <td>12330.000000</td>\n",
       "      <td>12330.000000</td>\n",
       "      <td>12330.000000</td>\n",
       "      <td>...</td>\n",
       "      <td>12330.000000</td>\n",
       "      <td>12330.000000</td>\n",
       "      <td>12330.000000</td>\n",
       "      <td>12330.000000</td>\n",
       "      <td>12330.000000</td>\n",
       "      <td>12330.000000</td>\n",
       "      <td>12330.000000</td>\n",
       "      <td>12330.000000</td>\n",
       "      <td>12330.000000</td>\n",
       "      <td>12330.000000</td>\n",
       "    </tr>\n",
       "    <tr>\n",
       "      <th>mean</th>\n",
       "      <td>0.199676</td>\n",
       "      <td>0.645661</td>\n",
       "      <td>0.008516</td>\n",
       "      <td>0.059692</td>\n",
       "      <td>0.037875</td>\n",
       "      <td>0.014112</td>\n",
       "      <td>0.003974</td>\n",
       "      <td>0.010949</td>\n",
       "      <td>0.000081</td>\n",
       "      <td>0.013220</td>\n",
       "      <td>...</td>\n",
       "      <td>0.503569</td>\n",
       "      <td>34.472398</td>\n",
       "      <td>31.731468</td>\n",
       "      <td>1194.746220</td>\n",
       "      <td>0.022191</td>\n",
       "      <td>0.043073</td>\n",
       "      <td>5.889258</td>\n",
       "      <td>0.061427</td>\n",
       "      <td>0.232603</td>\n",
       "      <td>0.154745</td>\n",
       "    </tr>\n",
       "    <tr>\n",
       "      <th>std</th>\n",
       "      <td>0.399773</td>\n",
       "      <td>0.478332</td>\n",
       "      <td>0.091891</td>\n",
       "      <td>0.236925</td>\n",
       "      <td>0.190902</td>\n",
       "      <td>0.117957</td>\n",
       "      <td>0.062917</td>\n",
       "      <td>0.104067</td>\n",
       "      <td>0.009006</td>\n",
       "      <td>0.114219</td>\n",
       "      <td>...</td>\n",
       "      <td>1.270156</td>\n",
       "      <td>140.749294</td>\n",
       "      <td>44.475503</td>\n",
       "      <td>1913.669288</td>\n",
       "      <td>0.048488</td>\n",
       "      <td>0.048597</td>\n",
       "      <td>18.568437</td>\n",
       "      <td>0.198917</td>\n",
       "      <td>0.422509</td>\n",
       "      <td>0.361676</td>\n",
       "    </tr>\n",
       "    <tr>\n",
       "      <th>min</th>\n",
       "      <td>0.000000</td>\n",
       "      <td>0.000000</td>\n",
       "      <td>0.000000</td>\n",
       "      <td>0.000000</td>\n",
       "      <td>0.000000</td>\n",
       "      <td>0.000000</td>\n",
       "      <td>0.000000</td>\n",
       "      <td>0.000000</td>\n",
       "      <td>0.000000</td>\n",
       "      <td>0.000000</td>\n",
       "      <td>...</td>\n",
       "      <td>0.000000</td>\n",
       "      <td>0.000000</td>\n",
       "      <td>0.000000</td>\n",
       "      <td>0.000000</td>\n",
       "      <td>0.000000</td>\n",
       "      <td>0.000000</td>\n",
       "      <td>0.000000</td>\n",
       "      <td>0.000000</td>\n",
       "      <td>0.000000</td>\n",
       "      <td>0.000000</td>\n",
       "    </tr>\n",
       "    <tr>\n",
       "      <th>25%</th>\n",
       "      <td>0.000000</td>\n",
       "      <td>0.000000</td>\n",
       "      <td>0.000000</td>\n",
       "      <td>0.000000</td>\n",
       "      <td>0.000000</td>\n",
       "      <td>0.000000</td>\n",
       "      <td>0.000000</td>\n",
       "      <td>0.000000</td>\n",
       "      <td>0.000000</td>\n",
       "      <td>0.000000</td>\n",
       "      <td>...</td>\n",
       "      <td>0.000000</td>\n",
       "      <td>0.000000</td>\n",
       "      <td>7.000000</td>\n",
       "      <td>184.137500</td>\n",
       "      <td>0.000000</td>\n",
       "      <td>0.014286</td>\n",
       "      <td>0.000000</td>\n",
       "      <td>0.000000</td>\n",
       "      <td>0.000000</td>\n",
       "      <td>0.000000</td>\n",
       "    </tr>\n",
       "    <tr>\n",
       "      <th>50%</th>\n",
       "      <td>0.000000</td>\n",
       "      <td>1.000000</td>\n",
       "      <td>0.000000</td>\n",
       "      <td>0.000000</td>\n",
       "      <td>0.000000</td>\n",
       "      <td>0.000000</td>\n",
       "      <td>0.000000</td>\n",
       "      <td>0.000000</td>\n",
       "      <td>0.000000</td>\n",
       "      <td>0.000000</td>\n",
       "      <td>...</td>\n",
       "      <td>0.000000</td>\n",
       "      <td>0.000000</td>\n",
       "      <td>18.000000</td>\n",
       "      <td>598.936905</td>\n",
       "      <td>0.003112</td>\n",
       "      <td>0.025156</td>\n",
       "      <td>0.000000</td>\n",
       "      <td>0.000000</td>\n",
       "      <td>0.000000</td>\n",
       "      <td>0.000000</td>\n",
       "    </tr>\n",
       "    <tr>\n",
       "      <th>75%</th>\n",
       "      <td>0.000000</td>\n",
       "      <td>1.000000</td>\n",
       "      <td>0.000000</td>\n",
       "      <td>0.000000</td>\n",
       "      <td>0.000000</td>\n",
       "      <td>0.000000</td>\n",
       "      <td>0.000000</td>\n",
       "      <td>0.000000</td>\n",
       "      <td>0.000000</td>\n",
       "      <td>0.000000</td>\n",
       "      <td>...</td>\n",
       "      <td>0.000000</td>\n",
       "      <td>0.000000</td>\n",
       "      <td>38.000000</td>\n",
       "      <td>1464.157213</td>\n",
       "      <td>0.016813</td>\n",
       "      <td>0.050000</td>\n",
       "      <td>0.000000</td>\n",
       "      <td>0.000000</td>\n",
       "      <td>0.000000</td>\n",
       "      <td>0.000000</td>\n",
       "    </tr>\n",
       "    <tr>\n",
       "      <th>max</th>\n",
       "      <td>1.000000</td>\n",
       "      <td>1.000000</td>\n",
       "      <td>1.000000</td>\n",
       "      <td>1.000000</td>\n",
       "      <td>1.000000</td>\n",
       "      <td>1.000000</td>\n",
       "      <td>1.000000</td>\n",
       "      <td>1.000000</td>\n",
       "      <td>1.000000</td>\n",
       "      <td>1.000000</td>\n",
       "      <td>...</td>\n",
       "      <td>24.000000</td>\n",
       "      <td>2549.375000</td>\n",
       "      <td>705.000000</td>\n",
       "      <td>63973.522230</td>\n",
       "      <td>0.200000</td>\n",
       "      <td>0.200000</td>\n",
       "      <td>361.763742</td>\n",
       "      <td>1.000000</td>\n",
       "      <td>1.000000</td>\n",
       "      <td>1.000000</td>\n",
       "    </tr>\n",
       "  </tbody>\n",
       "</table>\n",
       "<p>8 rows × 75 columns</p>\n",
       "</div>"
      ],
      "text/plain": [
       "          Browser_1     Browser_2     Browser_3     Browser_4     Browser_5  \\\n",
       "count  12330.000000  12330.000000  12330.000000  12330.000000  12330.000000   \n",
       "mean       0.199676      0.645661      0.008516      0.059692      0.037875   \n",
       "std        0.399773      0.478332      0.091891      0.236925      0.190902   \n",
       "min        0.000000      0.000000      0.000000      0.000000      0.000000   \n",
       "25%        0.000000      0.000000      0.000000      0.000000      0.000000   \n",
       "50%        0.000000      1.000000      0.000000      0.000000      0.000000   \n",
       "75%        0.000000      1.000000      0.000000      0.000000      0.000000   \n",
       "max        1.000000      1.000000      1.000000      1.000000      1.000000   \n",
       "\n",
       "          Browser_6     Browser_7     Browser_8     Browser_9    Browser_10  \\\n",
       "count  12330.000000  12330.000000  12330.000000  12330.000000  12330.000000   \n",
       "mean       0.014112      0.003974      0.010949      0.000081      0.013220   \n",
       "std        0.117957      0.062917      0.104067      0.009006      0.114219   \n",
       "min        0.000000      0.000000      0.000000      0.000000      0.000000   \n",
       "25%        0.000000      0.000000      0.000000      0.000000      0.000000   \n",
       "50%        0.000000      0.000000      0.000000      0.000000      0.000000   \n",
       "75%        0.000000      0.000000      0.000000      0.000000      0.000000   \n",
       "max        1.000000      1.000000      1.000000      1.000000      1.000000   \n",
       "\n",
       "       ...  Informational  Informational_Duration  ProductRelated  \\\n",
       "count  ...   12330.000000            12330.000000    12330.000000   \n",
       "mean   ...       0.503569               34.472398       31.731468   \n",
       "std    ...       1.270156              140.749294       44.475503   \n",
       "min    ...       0.000000                0.000000        0.000000   \n",
       "25%    ...       0.000000                0.000000        7.000000   \n",
       "50%    ...       0.000000                0.000000       18.000000   \n",
       "75%    ...       0.000000                0.000000       38.000000   \n",
       "max    ...      24.000000             2549.375000      705.000000   \n",
       "\n",
       "       ProductRelated_Duration   BounceRates     ExitRates    PageValues  \\\n",
       "count             12330.000000  12330.000000  12330.000000  12330.000000   \n",
       "mean               1194.746220      0.022191      0.043073      5.889258   \n",
       "std                1913.669288      0.048488      0.048597     18.568437   \n",
       "min                   0.000000      0.000000      0.000000      0.000000   \n",
       "25%                 184.137500      0.000000      0.014286      0.000000   \n",
       "50%                 598.936905      0.003112      0.025156      0.000000   \n",
       "75%                1464.157213      0.016813      0.050000      0.000000   \n",
       "max               63973.522230      0.200000      0.200000    361.763742   \n",
       "\n",
       "         SpecialDay       Weekend      Purchase  \n",
       "count  12330.000000  12330.000000  12330.000000  \n",
       "mean       0.061427      0.232603      0.154745  \n",
       "std        0.198917      0.422509      0.361676  \n",
       "min        0.000000      0.000000      0.000000  \n",
       "25%        0.000000      0.000000      0.000000  \n",
       "50%        0.000000      0.000000      0.000000  \n",
       "75%        0.000000      0.000000      0.000000  \n",
       "max        1.000000      1.000000      1.000000  \n",
       "\n",
       "[8 rows x 75 columns]"
      ]
     },
     "execution_count": 9,
     "metadata": {},
     "output_type": "execute_result"
    }
   ],
   "source": [
    "# have a basic sense of the whole datase\n",
    "df.describe()"
   ]
  },
  {
   "cell_type": "code",
   "execution_count": null,
   "metadata": {},
   "outputs": [],
   "source": []
  },
  {
   "cell_type": "markdown",
   "metadata": {},
   "source": [
    "## Proposed Solution\n",
    "\n",
    "For this project, we aim to predict if the consumer would make a purchase based on the dataset featuring multiple aspects of online shopping behavior. We will employ 4 different machine learning models: logistic regression, K-NN, decision trees, and SVMs (other proper models may be employed after exploration). The deliberate decision of choosing those 4 models stems from the fact that the dataset contains 17 numeric input variables and 1 categorical output variable. Thus, only classification models such as K-NN, decision trees and SVMs would be considered. In addition, considering the binary nature of output values, logistic regression seems viable too. The main coding component would involve sklearn, such as LogisticRegression from sklearn.linear_model, KNeighborsClassifier from sklearn.neighbors, DecisionTreeClassifier from sklearn.tree, and SVC from sklearn.svm. We will then compare the performance of each model to determine the best fit for the dataset using a confusion matrix as stated below. "
   ]
  },
  {
   "cell_type": "markdown",
   "metadata": {},
   "source": [
    "## Evaluation Metrics\n",
    "\n",
    "We will apply the confusion matrix, which gives us a matrix as output and describes the complete performance of the model. In the confusion matrix, every row will be ground truth and every column will be the prediction. We can calculate the recall and precision value to evaluate the relationship between the true purhchase output and predicted output. Recall is the measure for how many true purhchase output get predicted out of all the purhchase output in the dataset while precision is the measure of the correctness of a purhchase output prediction.\n",
    "\n",
    "In addition, classification accuracy will be the major evaluation metric in this project, which is the ratio of the number of correct predictions to the total number of input samples. \n",
    "* For example, we will use model selection to split our training and testing sets into two sets of X and Y, where X is the set of features on customers behavior and days and Y is the result of whether customers purchase or not. After we generate our predictions using models, we will print out the classification report using sklearn.metrics packages to see the accuracy result of the predictions compared to the testing Y."
   ]
  },
  {
   "cell_type": "markdown",
   "metadata": {},
   "source": [
    "## Train-Test Spilt"
   ]
  },
  {
   "cell_type": "markdown",
   "metadata": {},
   "source": [
    "We first would like to split our dataset into 80% training set and 20% testing set."
   ]
  },
  {
   "cell_type": "code",
   "execution_count": 10,
   "metadata": {},
   "outputs": [],
   "source": [
    "from sklearn.model_selection import train_test_split\n",
    "from sklearn.linear_model import LogisticRegression\n",
    "import matplotlib.pyplot as plt\n",
    "import seaborn as sns\n",
    "from sklearn import metrics\n",
    "from sklearn.metrics import roc_auc_score, roc_curve\n",
    "from sklearn.pipeline import Pipeline\n",
    "from sklearn.linear_model import LogisticRegression\n",
    "from sklearn import datasets\n",
    "from sklearn.preprocessing import StandardScaler\n",
    "from sklearn.model_selection import GridSearchCV\n",
    "from sklearn.model_selection import StratifiedKFold"
   ]
  },
  {
   "cell_type": "code",
   "execution_count": 11,
   "metadata": {},
   "outputs": [],
   "source": [
    "X = df.drop('Purchase', axis = 1)\n",
    "y = df['Purchase']\n",
    "X_train, X_test, y_train, y_test = train_test_split(X, y, test_size=0.2, random_state=1)"
   ]
  },
  {
   "cell_type": "markdown",
   "metadata": {},
   "source": [
    "## LogisticRegression"
   ]
  },
  {
   "cell_type": "markdown",
   "metadata": {},
   "source": [
    "We first train a simple Logistic Regression on out training set, and then print out the score, Confusion Matrix, and ROC curve. "
   ]
  },
  {
   "cell_type": "code",
   "execution_count": 12,
   "metadata": {},
   "outputs": [
    {
     "name": "stdout",
     "output_type": "stream",
     "text": [
      "The accuracy we got in our testing set is  0.8896999188969992\n"
     ]
    }
   ],
   "source": [
    "# select Logistic Regression as our model\n",
    "clf = LogisticRegression(random_state=0, max_iter = 50000).fit(X_train, y_train)\n",
    "y_pred = clf.predict(X_test)\n",
    "\n",
    "# get the accuracy for our model\n",
    "score = clf.score(X_test, y_test)\n",
    "print(\"The accuracy we got in our testing set is \", score)"
   ]
  },
  {
   "cell_type": "code",
   "execution_count": 13,
   "metadata": {},
   "outputs": [
    {
     "data": {
      "image/png": "[encoded data removed]",
      "text/plain": [
       "<Figure size 540x540 with 1 Axes>"
      ]
     },
     "metadata": {
      "needs_background": "light"
     },
     "output_type": "display_data"
    }
   ],
   "source": [
    "# get and plot the confusion matrix for our model\n",
    "cm = metrics.confusion_matrix(y_test, y_pred)\n",
    "fig, ax = plt.subplots(figsize=(7.5, 7.5))\n",
    "ax.matshow(cm, cmap=plt.cm.Reds, alpha=0.3)\n",
    "for i in range(cm.shape[0]):\n",
    "    for j in range(cm.shape[1]):\n",
    "        ax.text(x=j, y=i,s=cm[i, j], va='center', ha='center', size='xx-large')\n",
    " \n",
    "plt.xlabel('Predictions', fontsize=18)\n",
    "plt.ylabel('Actuals', fontsize=18)\n",
    "plt.title('Confusion Matrix', fontsize=18)\n",
    "plt.show()"
   ]
  },
  {
   "cell_type": "code",
   "execution_count": 14,
   "metadata": {},
   "outputs": [
    {
     "name": "stdout",
     "output_type": "stream",
     "text": [
      "Area under the Receiver Operating Characteristic curve: 0.900070719928876\n"
     ]
    },
    {
     "data": {
      "image/png": "[encoded data removed]",
      "text/plain": [
       "<Figure size 600x400 with 1 Axes>"
      ]
     },
     "metadata": {
      "needs_background": "light"
     },
     "output_type": "display_data"
    }
   ],
   "source": [
    "fpr = roc_curve(y_test, clf.predict_proba(X_test)[:,1])[0]  # false positive rate\n",
    "tpr = roc_curve(y_test, clf.predict_proba(X_test)[:,1])[1]  # true positive rate\n",
    "roc_auc = roc_auc_score(y_test, clf.predict_proba(X_test)[:,1])\n",
    "\n",
    "# get and plot the ROC curve for our model\n",
    "plt.figure(dpi=100)\n",
    "plt.plot(fpr, tpr)\n",
    "plt.title('ROC curve')\n",
    "plt.xlabel('False Positive Rate')\n",
    "plt.ylabel('True Positive Rate')\n",
    "\n",
    "print('Area under the Receiver Operating Characteristic curve:', \n",
    "      roc_auc)"
   ]
  },
  {
   "cell_type": "markdown",
   "metadata": {},
   "source": [
    "However, we could have a better model when selecting better hyperparameters. So we will do a grid search on different hyperparameter. Then we will select the best model from the grid, train on entire training set and evaluate best model on the test set."
   ]
  },
  {
   "cell_type": "code",
   "execution_count": 15,
   "metadata": {},
   "outputs": [],
   "source": [
    "# create a pipeline \n",
    "pipe = Pipeline([('std', StandardScaler()),\n",
    "                 ('classifier', LogisticRegression())])\n",
    "\n",
    "# create search space of candidate learning algorithms and their hyperparameters\n",
    "search_space = [{'classifier': [LogisticRegression(max_iter=1000)],\n",
    "                 'classifier__solver': ['saga'],\n",
    "                 'classifier__penalty': ['l1', 'l2'],\n",
    "                 'classifier__C': np.logspace(-4, 4, 9)},\n",
    "                {'classifier': [LogisticRegression(max_iter=1000)],\n",
    "                 'classifier__solver': ['lbfgs'],\n",
    "                 'classifier__penalty': ['l2'],\n",
    "                 'classifier__C': np.logspace(-4, 4, 9)},\n",
    "                {'classifier': [LogisticRegression(max_iter=1000)],\n",
    "                 'classifier__solver': ['lbfgs','saga'],\n",
    "                 'classifier__penalty': ['none']}\n",
    "                ]\n",
    "\n",
    "\n",
    "# create grid search \n",
    "clf = GridSearchCV(pipe, search_space, cv=StratifiedKFold(n_splits=5), \n",
    "                   scoring=['accuracy', 'roc_auc_ovr', 'f1_micro'], refit=False,\n",
    "                   verbose=0)\n",
    "\n",
    "# fit grid search\n",
    "best_model = clf.fit(X_train, y_train)"
   ]
  },
  {
   "cell_type": "markdown",
   "metadata": {},
   "source": [
    "Take a look at our grid search result"
   ]
  },
  {
   "cell_type": "code",
   "execution_count": 16,
   "metadata": {},
   "outputs": [
    {
     "data": {
      "text/plain": [
       "{'mean_fit_time': array([0.05628219, 0.24998722, 0.29488497, 0.39428148, 0.86189561,\n",
       "        0.832757  , 2.37318153, 2.13046842, 2.71162639, 2.97453747,\n",
       "        4.85759215, 3.53671618, 3.63009624, 3.35255237, 4.02145839,\n",
       "        3.64645925, 4.71770501, 3.4802578 , 0.05006523, 0.05207791,\n",
       "        0.06805792, 0.1128314 , 0.13888884, 0.14756398, 0.18870878,\n",
       "        0.37458305, 0.21322351, 0.14373937, 3.07205477]),\n",
       " 'std_fit_time': array([0.02359678, 0.04104539, 0.04798661, 0.07317905, 0.11265308,\n",
       "        0.21888938, 0.58006333, 0.64439884, 0.52698504, 0.56373098,\n",
       "        0.8528248 , 0.71860403, 0.60324224, 0.54396741, 1.28858078,\n",
       "        0.85047125, 1.03454205, 0.55859911, 0.00494509, 0.00716838,\n",
       "        0.01869229, 0.0194594 , 0.01559304, 0.02218951, 0.10132114,\n",
       "        0.17120162, 0.04912323, 0.02813786, 1.10031823]),\n",
       " 'mean_score_time': array([0.01333289, 0.01023235, 0.01320992, 0.00902109, 0.01886539,\n",
       "        0.0159059 , 0.00798168, 0.01143389, 0.0086936 , 0.01095209,\n",
       "        0.01666379, 0.01576424, 0.00882683, 0.01075912, 0.01401072,\n",
       "        0.01142673, 0.01242394, 0.01113787, 0.01587682, 0.01517491,\n",
       "        0.01366768, 0.01930184, 0.02006054, 0.01891608, 0.01759601,\n",
       "        0.01706238, 0.01480303, 0.01144319, 0.01153154]),\n",
       " 'std_score_time': array([0.00585663, 0.00244733, 0.00951834, 0.00096399, 0.00639895,\n",
       "        0.00476007, 0.00032933, 0.00449975, 0.00051477, 0.00304198,\n",
       "        0.00280457, 0.00620491, 0.00099815, 0.00367569, 0.00715399,\n",
       "        0.00413668, 0.00557235, 0.00340606, 0.0029962 , 0.00421379,\n",
       "        0.0028238 , 0.0026788 , 0.0047886 , 0.00586927, 0.00412789,\n",
       "        0.00499121, 0.00340188, 0.00059066, 0.00545481]),\n",
       " 'param_classifier': masked_array(data=[LogisticRegression(max_iter=1000),\n",
       "                    LogisticRegression(max_iter=1000),\n",
       "                    LogisticRegression(max_iter=1000),\n",
       "                    LogisticRegression(max_iter=1000),\n",
       "                    LogisticRegression(max_iter=1000),\n",
       "                    LogisticRegression(max_iter=1000),\n",
       "                    LogisticRegression(max_iter=1000),\n",
       "                    LogisticRegression(max_iter=1000),\n",
       "                    LogisticRegression(max_iter=1000),\n",
       "                    LogisticRegression(max_iter=1000),\n",
       "                    LogisticRegression(max_iter=1000),\n",
       "                    LogisticRegression(max_iter=1000),\n",
       "                    LogisticRegression(max_iter=1000),\n",
       "                    LogisticRegression(max_iter=1000),\n",
       "                    LogisticRegression(max_iter=1000),\n",
       "                    LogisticRegression(max_iter=1000),\n",
       "                    LogisticRegression(max_iter=1000),\n",
       "                    LogisticRegression(max_iter=1000),\n",
       "                    LogisticRegression(max_iter=1000),\n",
       "                    LogisticRegression(max_iter=1000),\n",
       "                    LogisticRegression(max_iter=1000),\n",
       "                    LogisticRegression(max_iter=1000),\n",
       "                    LogisticRegression(max_iter=1000),\n",
       "                    LogisticRegression(max_iter=1000),\n",
       "                    LogisticRegression(max_iter=1000),\n",
       "                    LogisticRegression(max_iter=1000),\n",
       "                    LogisticRegression(max_iter=1000),\n",
       "                    LogisticRegression(max_iter=1000),\n",
       "                    LogisticRegression(max_iter=1000)],\n",
       "              mask=[False, False, False, False, False, False, False, False,\n",
       "                    False, False, False, False, False, False, False, False,\n",
       "                    False, False, False, False, False, False, False, False,\n",
       "                    False, False, False, False, False],\n",
       "        fill_value='?',\n",
       "             dtype=object),\n",
       " 'param_classifier__C': masked_array(data=[0.0001, 0.0001, 0.001, 0.001, 0.01, 0.01, 0.1, 0.1,\n",
       "                    1.0, 1.0, 10.0, 10.0, 100.0, 100.0, 1000.0, 1000.0,\n",
       "                    10000.0, 10000.0, 0.0001, 0.001, 0.01, 0.1, 1.0, 10.0,\n",
       "                    100.0, 1000.0, 10000.0, --, --],\n",
       "              mask=[False, False, False, False, False, False, False, False,\n",
       "                    False, False, False, False, False, False, False, False,\n",
       "                    False, False, False, False, False, False, False, False,\n",
       "                    False, False, False,  True,  True],\n",
       "        fill_value='?',\n",
       "             dtype=object),\n",
       " 'param_classifier__penalty': masked_array(data=['l1', 'l2', 'l1', 'l2', 'l1', 'l2', 'l1', 'l2', 'l1',\n",
       "                    'l2', 'l1', 'l2', 'l1', 'l2', 'l1', 'l2', 'l1', 'l2',\n",
       "                    'l2', 'l2', 'l2', 'l2', 'l2', 'l2', 'l2', 'l2', 'l2',\n",
       "                    'none', 'none'],\n",
       "              mask=[False, False, False, False, False, False, False, False,\n",
       "                    False, False, False, False, False, False, False, False,\n",
       "                    False, False, False, False, False, False, False, False,\n",
       "                    False, False, False, False, False],\n",
       "        fill_value='?',\n",
       "             dtype=object),\n",
       " 'param_classifier__solver': masked_array(data=['saga', 'saga', 'saga', 'saga', 'saga', 'saga', 'saga',\n",
       "                    'saga', 'saga', 'saga', 'saga', 'saga', 'saga', 'saga',\n",
       "                    'saga', 'saga', 'saga', 'saga', 'lbfgs', 'lbfgs',\n",
       "                    'lbfgs', 'lbfgs', 'lbfgs', 'lbfgs', 'lbfgs', 'lbfgs',\n",
       "                    'lbfgs', 'lbfgs', 'saga'],\n",
       "              mask=[False, False, False, False, False, False, False, False,\n",
       "                    False, False, False, False, False, False, False, False,\n",
       "                    False, False, False, False, False, False, False, False,\n",
       "                    False, False, False, False, False],\n",
       "        fill_value='?',\n",
       "             dtype=object),\n",
       " 'params': [{'classifier': LogisticRegression(max_iter=1000),\n",
       "   'classifier__C': 0.0001,\n",
       "   'classifier__penalty': 'l1',\n",
       "   'classifier__solver': 'saga'},\n",
       "  {'classifier': LogisticRegression(max_iter=1000),\n",
       "   'classifier__C': 0.0001,\n",
       "   'classifier__penalty': 'l2',\n",
       "   'classifier__solver': 'saga'},\n",
       "  {'classifier': LogisticRegression(max_iter=1000),\n",
       "   'classifier__C': 0.001,\n",
       "   'classifier__penalty': 'l1',\n",
       "   'classifier__solver': 'saga'},\n",
       "  {'classifier': LogisticRegression(max_iter=1000),\n",
       "   'classifier__C': 0.001,\n",
       "   'classifier__penalty': 'l2',\n",
       "   'classifier__solver': 'saga'},\n",
       "  {'classifier': LogisticRegression(max_iter=1000),\n",
       "   'classifier__C': 0.01,\n",
       "   'classifier__penalty': 'l1',\n",
       "   'classifier__solver': 'saga'},\n",
       "  {'classifier': LogisticRegression(max_iter=1000),\n",
       "   'classifier__C': 0.01,\n",
       "   'classifier__penalty': 'l2',\n",
       "   'classifier__solver': 'saga'},\n",
       "  {'classifier': LogisticRegression(max_iter=1000),\n",
       "   'classifier__C': 0.1,\n",
       "   'classifier__penalty': 'l1',\n",
       "   'classifier__solver': 'saga'},\n",
       "  {'classifier': LogisticRegression(max_iter=1000),\n",
       "   'classifier__C': 0.1,\n",
       "   'classifier__penalty': 'l2',\n",
       "   'classifier__solver': 'saga'},\n",
       "  {'classifier': LogisticRegression(max_iter=1000),\n",
       "   'classifier__C': 1.0,\n",
       "   'classifier__penalty': 'l1',\n",
       "   'classifier__solver': 'saga'},\n",
       "  {'classifier': LogisticRegression(max_iter=1000),\n",
       "   'classifier__C': 1.0,\n",
       "   'classifier__penalty': 'l2',\n",
       "   'classifier__solver': 'saga'},\n",
       "  {'classifier': LogisticRegression(max_iter=1000),\n",
       "   'classifier__C': 10.0,\n",
       "   'classifier__penalty': 'l1',\n",
       "   'classifier__solver': 'saga'},\n",
       "  {'classifier': LogisticRegression(max_iter=1000),\n",
       "   'classifier__C': 10.0,\n",
       "   'classifier__penalty': 'l2',\n",
       "   'classifier__solver': 'saga'},\n",
       "  {'classifier': LogisticRegression(max_iter=1000),\n",
       "   'classifier__C': 100.0,\n",
       "   'classifier__penalty': 'l1',\n",
       "   'classifier__solver': 'saga'},\n",
       "  {'classifier': LogisticRegression(max_iter=1000),\n",
       "   'classifier__C': 100.0,\n",
       "   'classifier__penalty': 'l2',\n",
       "   'classifier__solver': 'saga'},\n",
       "  {'classifier': LogisticRegression(max_iter=1000),\n",
       "   'classifier__C': 1000.0,\n",
       "   'classifier__penalty': 'l1',\n",
       "   'classifier__solver': 'saga'},\n",
       "  {'classifier': LogisticRegression(max_iter=1000),\n",
       "   'classifier__C': 1000.0,\n",
       "   'classifier__penalty': 'l2',\n",
       "   'classifier__solver': 'saga'},\n",
       "  {'classifier': LogisticRegression(max_iter=1000),\n",
       "   'classifier__C': 10000.0,\n",
       "   'classifier__penalty': 'l1',\n",
       "   'classifier__solver': 'saga'},\n",
       "  {'classifier': LogisticRegression(max_iter=1000),\n",
       "   'classifier__C': 10000.0,\n",
       "   'classifier__penalty': 'l2',\n",
       "   'classifier__solver': 'saga'},\n",
       "  {'classifier': LogisticRegression(max_iter=1000),\n",
       "   'classifier__C': 0.0001,\n",
       "   'classifier__penalty': 'l2',\n",
       "   'classifier__solver': 'lbfgs'},\n",
       "  {'classifier': LogisticRegression(max_iter=1000),\n",
       "   'classifier__C': 0.001,\n",
       "   'classifier__penalty': 'l2',\n",
       "   'classifier__solver': 'lbfgs'},\n",
       "  {'classifier': LogisticRegression(max_iter=1000),\n",
       "   'classifier__C': 0.01,\n",
       "   'classifier__penalty': 'l2',\n",
       "   'classifier__solver': 'lbfgs'},\n",
       "  {'classifier': LogisticRegression(max_iter=1000),\n",
       "   'classifier__C': 0.1,\n",
       "   'classifier__penalty': 'l2',\n",
       "   'classifier__solver': 'lbfgs'},\n",
       "  {'classifier': LogisticRegression(max_iter=1000),\n",
       "   'classifier__C': 1.0,\n",
       "   'classifier__penalty': 'l2',\n",
       "   'classifier__solver': 'lbfgs'},\n",
       "  {'classifier': LogisticRegression(max_iter=1000),\n",
       "   'classifier__C': 10.0,\n",
       "   'classifier__penalty': 'l2',\n",
       "   'classifier__solver': 'lbfgs'},\n",
       "  {'classifier': LogisticRegression(max_iter=1000),\n",
       "   'classifier__C': 100.0,\n",
       "   'classifier__penalty': 'l2',\n",
       "   'classifier__solver': 'lbfgs'},\n",
       "  {'classifier': LogisticRegression(max_iter=1000),\n",
       "   'classifier__C': 1000.0,\n",
       "   'classifier__penalty': 'l2',\n",
       "   'classifier__solver': 'lbfgs'},\n",
       "  {'classifier': LogisticRegression(max_iter=1000),\n",
       "   'classifier__C': 10000.0,\n",
       "   'classifier__penalty': 'l2',\n",
       "   'classifier__solver': 'lbfgs'},\n",
       "  {'classifier': LogisticRegression(max_iter=1000),\n",
       "   'classifier__penalty': 'none',\n",
       "   'classifier__solver': 'lbfgs'},\n",
       "  {'classifier': LogisticRegression(max_iter=1000),\n",
       "   'classifier__penalty': 'none',\n",
       "   'classifier__solver': 'saga'}],\n",
       " 'split0_test_accuracy': array([0.84237202, 0.84135834, 0.84490623, 0.86315256, 0.8803852 ,\n",
       "        0.88241257, 0.88646731, 0.88748099, 0.88697415, 0.88849468,\n",
       "        0.88798784, 0.88798784, 0.88798784, 0.88798784, 0.88798784,\n",
       "        0.88798784, 0.88798784, 0.88798784, 0.84135834, 0.86315256,\n",
       "        0.88241257, 0.88748099, 0.88849468, 0.88798784, 0.88798784,\n",
       "        0.88798784, 0.88798784, 0.88798784, 0.88798784]),\n",
       " 'split1_test_accuracy': array([0.84237202, 0.84338571, 0.84591992, 0.85352255, 0.87126204,\n",
       "        0.86923467, 0.87582362, 0.87430309, 0.87379625, 0.87379625,\n",
       "        0.87379625, 0.87379625, 0.87379625, 0.87379625, 0.87379625,\n",
       "        0.87379625, 0.87379625, 0.87379625, 0.84338571, 0.85352255,\n",
       "        0.86923467, 0.87379625, 0.87379625, 0.87379625, 0.87379625,\n",
       "        0.87379625, 0.87379625, 0.87379625, 0.87379625]),\n",
       " 'split2_test_accuracy': array([0.84186518, 0.84237202, 0.84591992, 0.86923467, 0.87987836,\n",
       "        0.88139888, 0.88798784, 0.88900152, 0.89052205, 0.89052205,\n",
       "        0.89052205, 0.89052205, 0.89052205, 0.89052205, 0.89052205,\n",
       "        0.89052205, 0.89052205, 0.89052205, 0.84237202, 0.86923467,\n",
       "        0.88139888, 0.88900152, 0.89052205, 0.89052205, 0.89052205,\n",
       "        0.89052205, 0.89052205, 0.89052205, 0.89052205]),\n",
       " 'split3_test_accuracy': array([0.84186518, 0.84135834, 0.84642676, 0.86264572, 0.87987836,\n",
       "        0.88139888, 0.88443994, 0.88291941, 0.88190573, 0.88190573,\n",
       "        0.88190573, 0.88190573, 0.88190573, 0.88190573, 0.88190573,\n",
       "        0.88190573, 0.88190573, 0.88190573, 0.84135834, 0.86264572,\n",
       "        0.88139888, 0.88241257, 0.88190573, 0.88190573, 0.88190573,\n",
       "        0.88190573, 0.88190573, 0.88190573, 0.88190573]),\n",
       " 'split4_test_accuracy': array([0.84229209, 0.84279919, 0.84634888, 0.86105477, 0.87931034,\n",
       "        0.87981744, 0.88235294, 0.88083164, 0.88032454, 0.88083164,\n",
       "        0.88083164, 0.88083164, 0.88083164, 0.88083164, 0.88083164,\n",
       "        0.88083164, 0.88083164, 0.88083164, 0.84279919, 0.86105477,\n",
       "        0.87981744, 0.88083164, 0.88083164, 0.88083164, 0.88083164,\n",
       "        0.88083164, 0.88083164, 0.88083164, 0.88083164]),\n",
       " 'mean_test_accuracy': array([0.8421533 , 0.84225472, 0.84590434, 0.86192205, 0.87814286,\n",
       "        0.87885249, 0.88341433, 0.88290733, 0.88270454, 0.88311007,\n",
       "        0.8830087 , 0.8830087 , 0.8830087 , 0.8830087 , 0.8830087 ,\n",
       "        0.8830087 , 0.8830087 , 0.8830087 , 0.84225472, 0.86192205,\n",
       "        0.87885249, 0.8827046 , 0.88311007, 0.8830087 , 0.8830087 ,\n",
       "        0.8830087 , 0.8830087 , 0.8830087 , 0.8830087 ]),\n",
       " 'std_test_accuracy': array([0.00023705, 0.00079954, 0.00054171, 0.00503619, 0.00345719,\n",
       "        0.00488008, 0.00424346, 0.00522301, 0.00574462, 0.00595517,\n",
       "        0.0058663 , 0.0058663 , 0.0058663 , 0.0058663 , 0.0058663 ,\n",
       "        0.0058663 , 0.0058663 , 0.0058663 , 0.00079954, 0.00503619,\n",
       "        0.00488008, 0.0053929 , 0.00595517, 0.0058663 , 0.0058663 ,\n",
       "        0.0058663 , 0.0058663 , 0.0058663 , 0.0058663 ]),\n",
       " 'rank_test_accuracy': array([29, 27, 26, 24, 23, 21,  1, 18, 20,  2,  4,  4,  4,  4,  4,  4,  4,\n",
       "         4, 27, 24, 21, 19,  2,  4,  4,  4,  4,  4,  4], dtype=int32),\n",
       " 'split0_test_roc_auc_ovr': array([0.5       , 0.85771414, 0.85361746, 0.88038276, 0.89534362,\n",
       "        0.89203725, 0.89515209, 0.89221331, 0.89194245, 0.8913872 ,\n",
       "        0.89127499, 0.89122856, 0.89121695, 0.89120147, 0.89119954,\n",
       "        0.8911976 , 0.89119954, 0.8911976 , 0.85768318, 0.88034987,\n",
       "        0.89198115, 0.8920624 , 0.891097  , 0.8909577 , 0.89093642,\n",
       "        0.89093062, 0.89092868, 0.89093255, 0.8911976 ]),\n",
       " 'split1_test_roc_auc_ovr': array([0.5       , 0.84587585, 0.87450327, 0.87102085, 0.89903982,\n",
       "        0.88448427, 0.88992072, 0.88429274, 0.88492151, 0.88377038,\n",
       "        0.88374329, 0.88366977, 0.8836601 , 0.8836659 , 0.8836659 ,\n",
       "        0.88366204, 0.88365623, 0.88366784, 0.84582748, 0.87093766,\n",
       "        0.88440495, 0.88413216, 0.88359819, 0.88338151, 0.88339311,\n",
       "        0.88338538, 0.88338925, 0.88338538, 0.88366784]),\n",
       " 'split2_test_roc_auc_ovr': array([0.5       , 0.85744223, 0.86840064, 0.88113625, 0.90004863,\n",
       "        0.8912379 , 0.89491579, 0.89093495, 0.89097354, 0.89019204,\n",
       "        0.89015152, 0.88992189, 0.88994118, 0.88991996, 0.88991803,\n",
       "        0.88991803, 0.88990645, 0.88991031, 0.85739784, 0.88111116,\n",
       "        0.89120896, 0.8908404 , 0.88919634, 0.88763527, 0.88736126,\n",
       "        0.88734003, 0.88734196, 0.88734196, 0.88990838]),\n",
       " 'split3_test_roc_auc_ovr': array([0.5       , 0.83784676, 0.85631049, 0.86780631, 0.88892716,\n",
       "        0.88439541, 0.88914231, 0.88655853, 0.88708146, 0.88664922,\n",
       "        0.8866801 , 0.88664922, 0.88666273, 0.8866608 , 0.88665115,\n",
       "        0.88665501, 0.88664729, 0.88665694, 0.8378236 , 0.86775614,\n",
       "        0.88438576, 0.8865373 , 0.88660677, 0.88663764, 0.88663957,\n",
       "        0.88663764, 0.88664343, 0.88664922, 0.88665308]),\n",
       " 'split4_test_roc_auc_ovr': array([0.5       , 0.86175182, 0.8616347 , 0.88141804, 0.90856823,\n",
       "        0.8900035 , 0.8974081 , 0.89006545, 0.89064814, 0.88968603,\n",
       "        0.88967635, 0.88954665, 0.88954471, 0.88953309, 0.88953503,\n",
       "        0.88953309, 0.88953503, 0.88953503, 0.86170343, 0.88138513,\n",
       "        0.88998802, 0.89001899, 0.88935113, 0.8893066 , 0.88928918,\n",
       "        0.88926982, 0.88927756, 0.88927756, 0.88952922]),\n",
       " 'mean_test_roc_auc_ovr': array([0.5       , 0.85212616, 0.86289331, 0.87635284, 0.89838549,\n",
       "        0.88843167, 0.8933078 , 0.888813  , 0.88911342, 0.88833697,\n",
       "        0.88830525, 0.88820322, 0.88820514, 0.88819625, 0.88819393,\n",
       "        0.88819315, 0.88818891, 0.88819354, 0.85208711, 0.87630799,\n",
       "        0.88839377, 0.88871825, 0.88796989, 0.88758374, 0.88752391,\n",
       "        0.8875127 , 0.88751618, 0.88751734, 0.88819123]),\n",
       " 'std_test_roc_auc_ovr': array([0.        , 0.0088894 , 0.0076952 , 0.00576629, 0.00641242,\n",
       "        0.00332323, 0.00321319, 0.00293764, 0.00266533, 0.00276649,\n",
       "        0.00274082, 0.00271582, 0.00271719, 0.00270818, 0.0027088 ,\n",
       "        0.00270903, 0.002711  , 0.00270608, 0.00888396, 0.00578203,\n",
       "        0.00332599, 0.00293828, 0.00261384, 0.00256548, 0.00255474,\n",
       "        0.00255343, 0.0025523 , 0.0025542 , 0.0027057 ]),\n",
       " 'rank_test_roc_auc_ovr': array([29, 27, 26, 24,  1,  6,  2,  4,  3,  8,  9, 11, 10, 12, 13, 15, 17,\n",
       "        14, 28, 25,  7,  5, 18, 19, 20, 23, 22, 21, 16], dtype=int32),\n",
       " 'split0_test_f1_micro': array([0.84237202, 0.84135834, 0.84490623, 0.86315256, 0.8803852 ,\n",
       "        0.88241257, 0.88646731, 0.88748099, 0.88697415, 0.88849468,\n",
       "        0.88798784, 0.88798784, 0.88798784, 0.88798784, 0.88798784,\n",
       "        0.88798784, 0.88798784, 0.88798784, 0.84135834, 0.86315256,\n",
       "        0.88241257, 0.88748099, 0.88849468, 0.88798784, 0.88798784,\n",
       "        0.88798784, 0.88798784, 0.88798784, 0.88798784]),\n",
       " 'split1_test_f1_micro': array([0.84237202, 0.84338571, 0.84591992, 0.85352255, 0.87126204,\n",
       "        0.86923467, 0.87582362, 0.87430309, 0.87379625, 0.87379625,\n",
       "        0.87379625, 0.87379625, 0.87379625, 0.87379625, 0.87379625,\n",
       "        0.87379625, 0.87379625, 0.87379625, 0.84338571, 0.85352255,\n",
       "        0.86923467, 0.87379625, 0.87379625, 0.87379625, 0.87379625,\n",
       "        0.87379625, 0.87379625, 0.87379625, 0.87379625]),\n",
       " 'split2_test_f1_micro': array([0.84186518, 0.84237202, 0.84591992, 0.86923467, 0.87987836,\n",
       "        0.88139888, 0.88798784, 0.88900152, 0.89052205, 0.89052205,\n",
       "        0.89052205, 0.89052205, 0.89052205, 0.89052205, 0.89052205,\n",
       "        0.89052205, 0.89052205, 0.89052205, 0.84237202, 0.86923467,\n",
       "        0.88139888, 0.88900152, 0.89052205, 0.89052205, 0.89052205,\n",
       "        0.89052205, 0.89052205, 0.89052205, 0.89052205]),\n",
       " 'split3_test_f1_micro': array([0.84186518, 0.84135834, 0.84642676, 0.86264572, 0.87987836,\n",
       "        0.88139888, 0.88443994, 0.88291941, 0.88190573, 0.88190573,\n",
       "        0.88190573, 0.88190573, 0.88190573, 0.88190573, 0.88190573,\n",
       "        0.88190573, 0.88190573, 0.88190573, 0.84135834, 0.86264572,\n",
       "        0.88139888, 0.88241257, 0.88190573, 0.88190573, 0.88190573,\n",
       "        0.88190573, 0.88190573, 0.88190573, 0.88190573]),\n",
       " 'split4_test_f1_micro': array([0.84229209, 0.84279919, 0.84634888, 0.86105477, 0.87931034,\n",
       "        0.87981744, 0.88235294, 0.88083164, 0.88032454, 0.88083164,\n",
       "        0.88083164, 0.88083164, 0.88083164, 0.88083164, 0.88083164,\n",
       "        0.88083164, 0.88083164, 0.88083164, 0.84279919, 0.86105477,\n",
       "        0.87981744, 0.88083164, 0.88083164, 0.88083164, 0.88083164,\n",
       "        0.88083164, 0.88083164, 0.88083164, 0.88083164]),\n",
       " 'mean_test_f1_micro': array([0.8421533 , 0.84225472, 0.84590434, 0.86192205, 0.87814286,\n",
       "        0.87885249, 0.88341433, 0.88290733, 0.88270454, 0.88311007,\n",
       "        0.8830087 , 0.8830087 , 0.8830087 , 0.8830087 , 0.8830087 ,\n",
       "        0.8830087 , 0.8830087 , 0.8830087 , 0.84225472, 0.86192205,\n",
       "        0.87885249, 0.8827046 , 0.88311007, 0.8830087 , 0.8830087 ,\n",
       "        0.8830087 , 0.8830087 , 0.8830087 , 0.8830087 ]),\n",
       " 'std_test_f1_micro': array([0.00023705, 0.00079954, 0.00054171, 0.00503619, 0.00345719,\n",
       "        0.00488008, 0.00424346, 0.00522301, 0.00574462, 0.00595517,\n",
       "        0.0058663 , 0.0058663 , 0.0058663 , 0.0058663 , 0.0058663 ,\n",
       "        0.0058663 , 0.0058663 , 0.0058663 , 0.00079954, 0.00503619,\n",
       "        0.00488008, 0.0053929 , 0.00595517, 0.0058663 , 0.0058663 ,\n",
       "        0.0058663 , 0.0058663 , 0.0058663 , 0.0058663 ]),\n",
       " 'rank_test_f1_micro': array([29, 27, 26, 24, 23, 21,  1, 18, 20,  2,  4,  4,  4,  4,  4,  4,  4,\n",
       "         4, 27, 24, 21, 19,  2,  4,  4,  4,  4,  4,  4], dtype=int32)}"
      ]
     },
     "execution_count": 16,
     "metadata": {},
     "output_type": "execute_result"
    }
   ],
   "source": [
    "best_model.cv_results_"
   ]
  },
  {
   "cell_type": "code",
   "execution_count": 17,
   "metadata": {},
   "outputs": [
    {
     "data": {
      "text/plain": [
       "{'classifier': LogisticRegression(max_iter=1000),\n",
       " 'classifier__C': 0.1,\n",
       " 'classifier__penalty': 'l1',\n",
       " 'classifier__solver': 'saga'}"
      ]
     },
     "execution_count": 17,
     "metadata": {},
     "output_type": "execute_result"
    }
   ],
   "source": [
    "# get the model with highest accuracy from grid search\n",
    "p_accu = best_model.cv_results_['params'][np.argmin(best_model.cv_results_['rank_test_accuracy'])]\n",
    "p_accu"
   ]
  },
  {
   "cell_type": "code",
   "execution_count": 18,
   "metadata": {},
   "outputs": [
    {
     "data": {
      "text/plain": [
       "Pipeline(steps=[('std', StandardScaler()),\n",
       "                ('classifier',\n",
       "                 LogisticRegression(C=0.1, max_iter=1000, penalty='l1',\n",
       "                                    solver='saga'))])"
      ]
     },
     "execution_count": 18,
     "metadata": {},
     "output_type": "execute_result"
    }
   ],
   "source": [
    "# set the selected parameter to the pipeline\n",
    "pipe.set_params(**p_accu)"
   ]
  },
  {
   "cell_type": "code",
   "execution_count": 19,
   "metadata": {},
   "outputs": [
    {
     "name": "stdout",
     "output_type": "stream",
     "text": [
      "The accuracy score for this model is 0.8901054339010543\n"
     ]
    }
   ],
   "source": [
    "# train on the entire training set with the model with highest accuracy from grid search\n",
    "clf = pipe.fit(X_train, y_train)\n",
    "y_pred = clf.predict(X_test)\n",
    "score = clf.score(X_test, y_test)\n",
    "print(\"The accuracy score for this model is\", score)"
   ]
  },
  {
   "cell_type": "code",
   "execution_count": 20,
   "metadata": {},
   "outputs": [
    {
     "data": {
      "image/png": "[encoded data removed]",
      "text/plain": [
       "<Figure size 540x540 with 1 Axes>"
      ]
     },
     "metadata": {
      "needs_background": "light"
     },
     "output_type": "display_data"
    }
   ],
   "source": [
    "cm = metrics.confusion_matrix(y_test, y_pred)\n",
    "\n",
    "fig, ax = plt.subplots(figsize=(7.5, 7.5))\n",
    "ax.matshow(cm, cmap=plt.cm.Reds, alpha=0.3)\n",
    "for i in range(cm.shape[0]):\n",
    "    for j in range(cm.shape[1]):\n",
    "        ax.text(x=j, y=i,s=cm[i, j], va='center', ha='center', size='xx-large')\n",
    " \n",
    "plt.xlabel('Predictions', fontsize=18)\n",
    "plt.ylabel('Actuals', fontsize=18)\n",
    "plt.title('Confusion Matrix', fontsize=18)\n",
    "plt.show()"
   ]
  },
  {
   "cell_type": "code",
   "execution_count": 21,
   "metadata": {},
   "outputs": [
    {
     "name": "stdout",
     "output_type": "stream",
     "text": [
      "Area under the Receiver Operating Characteristic curve: 0.9036646393620389\n"
     ]
    },
    {
     "data": {
      "image/png": "[encoded data removed]",
      "text/plain": [
       "<Figure size 600x400 with 1 Axes>"
      ]
     },
     "metadata": {
      "needs_background": "light"
     },
     "output_type": "display_data"
    }
   ],
   "source": [
    "fpr = roc_curve(y_test, clf.predict_proba(X_test)[:,1])[0]  # false positive rate\n",
    "tpr = roc_curve(y_test, clf.predict_proba(X_test)[:,1])[1]  # true positive rate\n",
    "roc_auc = roc_auc_score(y_test, clf.predict_proba(X_test)[:,1])\n",
    "\n",
    "# plotting the ROC curve\n",
    "plt.figure(dpi=100)\n",
    "plt.plot(fpr, tpr)\n",
    "plt.title('ROC curve')\n",
    "plt.xlabel('False Positive Rate')\n",
    "plt.ylabel('True Positive Rate')\n",
    "\n",
    "print('Area under the Receiver Operating Characteristic curve:', \n",
    "      roc_auc)"
   ]
  },
  {
   "cell_type": "code",
   "execution_count": 22,
   "metadata": {},
   "outputs": [
    {
     "data": {
      "text/plain": [
       "{'classifier': LogisticRegression(C=0.1, max_iter=1000, penalty='l1', solver='saga'),\n",
       " 'classifier__C': 0.01,\n",
       " 'classifier__penalty': 'l1',\n",
       " 'classifier__solver': 'saga'}"
      ]
     },
     "execution_count": 22,
     "metadata": {},
     "output_type": "execute_result"
    }
   ],
   "source": [
    "# get the model with largest Area Under the Receiver Operating Characteristic Curve from grid search\n",
    "p_rao = best_model.cv_results_['params'][np.argmin(best_model.cv_results_['rank_test_roc_auc_ovr'])]\n",
    "p_rao"
   ]
  },
  {
   "cell_type": "code",
   "execution_count": 23,
   "metadata": {},
   "outputs": [
    {
     "name": "stdout",
     "output_type": "stream",
     "text": [
      "The accuracy score for this model is 0.8876723438767234\n"
     ]
    }
   ],
   "source": [
    "# set the selected parameter to the pipeline\n",
    "pipe.set_params(**p_rao)\n",
    "clf = pipe.fit(X_train, y_train)\n",
    "y_pred = clf.predict(X_test)\n",
    "score = clf.score(X_test, y_test)\n",
    "print(\"The accuracy score for this model is\", score)"
   ]
  },
  {
   "cell_type": "code",
   "execution_count": 24,
   "metadata": {},
   "outputs": [
    {
     "data": {
      "image/png": "[encoded data removed]",
      "text/plain": [
       "<Figure size 540x540 with 1 Axes>"
      ]
     },
     "metadata": {
      "needs_background": "light"
     },
     "output_type": "display_data"
    }
   ],
   "source": [
    "cm = metrics.confusion_matrix(y_test, y_pred)\n",
    "\n",
    "fig, ax = plt.subplots(figsize=(7.5, 7.5))\n",
    "ax.matshow(cm, cmap=plt.cm.Reds, alpha=0.3)\n",
    "for i in range(cm.shape[0]):\n",
    "    for j in range(cm.shape[1]):\n",
    "        ax.text(x=j, y=i,s=cm[i, j], va='center', ha='center', size='xx-large')\n",
    " \n",
    "plt.xlabel('Predictions', fontsize=18)\n",
    "plt.ylabel('Actuals', fontsize=18)\n",
    "plt.title('Confusion Matrix', fontsize=18)\n",
    "plt.show()"
   ]
  },
  {
   "cell_type": "code",
   "execution_count": 25,
   "metadata": {},
   "outputs": [
    {
     "name": "stdout",
     "output_type": "stream",
     "text": [
      "Area under the Receiver Operating Characteristic curve: 0.9105264930324032\n"
     ]
    },
    {
     "data": {
      "image/png": "[encoded data removed]",
      "text/plain": [
       "<Figure size 600x400 with 1 Axes>"
      ]
     },
     "metadata": {
      "needs_background": "light"
     },
     "output_type": "display_data"
    }
   ],
   "source": [
    "fpr = roc_curve(y_test, clf.predict_proba(X_test)[:,1])[0]  # false positive rate\n",
    "tpr = roc_curve(y_test, clf.predict_proba(X_test)[:,1])[1]  # true positive rate\n",
    "roc_auc = roc_auc_score(y_test, clf.predict_proba(X_test)[:,1])\n",
    "\n",
    "# plotting the ROC curve\n",
    "plt.figure(dpi=100)\n",
    "plt.plot(fpr, tpr)\n",
    "plt.title('ROC curve')\n",
    "plt.xlabel('False Positive Rate')\n",
    "plt.ylabel('True Positive Rate')\n",
    "\n",
    "print('Area under the Receiver Operating Characteristic curve:', \n",
    "      roc_auc)"
   ]
  },
  {
   "cell_type": "markdown",
   "metadata": {},
   "source": [
    "Now we have the logistic regression model with highest accuracy and largest Area under the Receiver Operating Characteristic curve above, we will compare those two models with other models in the following."
   ]
  },
  {
   "cell_type": "markdown",
   "metadata": {},
   "source": [
    "# Preliminary results\n",
    "\n",
    "NEW SECTION!\n",
    "\n",
    "Please show any preliminary results you have managed to obtain.\n",
    "\n",
    "Examples would include:\n",
    "- Analyzing the suitability of a dataset or alogrithm for prediction/solving your problem\n",
    "- Performing feature selection or hand-designing features from the raw data. Describe the features available/created and/or show the code for selection/creation\n",
    "    - [code](#LogisticRegression)\n",
    "- Showing the performance of a base model/hyper-parameter setting.  Solve the task with one \"default\" algorithm and characterize the performance level of that base model.\n",
    "- Learning curves or validation curves for a particular model\n",
    "- Tables/graphs showing the performance of different models/hyper-parameters\n",
    "\n"
   ]
  },
  {
   "cell_type": "markdown",
   "metadata": {},
   "source": [
    "# Ethics & Privacy"
   ]
  },
  {
   "cell_type": "markdown",
   "metadata": {},
   "source": [
    "This dataset is a public dataset obtained from the UCI Machine Learning Repository. The personal  identification information has been erased from the dataset before we obtained the data to ensure anonymity, so there should be no privacy issues for our project. \n",
    "\n",
    "However, there is no information about when those data were collected, and whether they are representative of a typical online shopping customer. Therefore, there might be some biases in our dataset which will result in some undesirable variation in our model.\n",
    "\n",
    "Another ethical concern would be that scammers could utilize this model to take unfair advantage on targeting their potential victims more precisely by selecting those who are more prone to make a purchase according to the algorithm we designed. Thus,  we should declare this project for educational purposes only and place justifiable concerns if we decide to make our model public on github."
   ]
  },
  {
   "cell_type": "markdown",
   "metadata": {},
   "source": [
    "# Team Expectations "
   ]
  },
  {
   "cell_type": "markdown",
   "metadata": {},
   "source": [
    "* Positive attitude towards the project and the group\n",
    "* Fully respect for other people’s ideas and work\n",
    "* Meet weekly on zoom or in-person (to work on schedules, assign work, set goals, and discuss problems)\n",
    "* Update status in chat group and feel free to ask questions\n",
    "* Work assigned evenly among team members\n",
    "* Be accountable for the work assigned\n",
    "* Don’t procrastinate (follow the team schedule once set)\n",
    "* Communication first facing conflict or difficulty\n",
    "* Majority voting for problems truly can’t be solved through negotiation "
   ]
  },
  {
   "cell_type": "markdown",
   "metadata": {},
   "source": [
    "# Project Timeline Proposal"
   ]
  },
  {
   "cell_type": "markdown",
   "metadata": {},
   "source": [
    "| Meeting Date  | Meeting Time| Completed Before Meeting  | Discuss at Meeting |\n",
    "|---|---|---|---|\n",
    "| April 24, 2022 |  15:00-18:00 |  Brainstorm project topics; Do background researches  | Decide topic; Finalize and submit group project proposal | \n",
    "| April 29, 2022 |  15:00-18:00 | Review data cleaning techniques; Complete peer review of proposals  | Discuss what we can learn from the peer review; Discuss how to do data cleaning, then assign work to everyone | \n",
    "| May 2, 2022 | 15:00-18:00  | Review EDA techniques  | Discuss how to do EDA, then assign work to everyone  |\n",
    "| May 8, 2022  | 15:00-18:00  | Finish assigned part of data cleaning and EDA |  Finalize data cleaning & EDA; Discuss what ML models to use and assign work to everyone  |\n",
    "| May 13, 2022  | 15:00-18:00  | Finish assigned part of ML modeling and programming | Finalize ML models; Generate and Submit project checkpoint |\n",
    "| May 20, 2022  | 15:00-18:00  | Complete peer review of project checkpoint | Discuss what we can learn from the peer review |\n",
    "| May 29, 2022  | 15:00-18:00  | Brainstorm on further analysis; Draft conclusion |  Discuss and Finalize the project |\n",
    "| June 8, 2022 | Before 11:59 PM | NA | Confirm and submit final project & complete team eval survey (after meeting)  |"
   ]
  },
  {
   "cell_type": "markdown",
   "metadata": {},
   "source": [
    "## Footnotes\n",
    "<a name=\"rananote\"></a>1.[^](#rana): R. A. E. -D. Ahmeda, M. E. Shehaba, S. Morsya and N. Mekawiea, \"Performance Study of Classification Algorithms for Consumer Online Shopping Attitudes and Behavior Using Data Mining,\" 2015 Fifth International Conference on Communication Systems and Network Technologies, 2015, pp. 1344-1349, doi: 10.1109/CSNT.2015.50.. https://ieeexplore.ieee.org/abstract/document/7280138?casa_token=XkLf7qMj_xgAAAAA:nXykZzXHLKrjWwqPlZ8rUtD--pGMmEtgtAcTVaeUcePQ0HST6ZgwEtDnoX4YKhbpolt569EhHx0K<br> \n",
    "\n",
    "<a name=\"sakarnote\"></a>2.[^](#sakar): Sakar, C.O., Polat, S.O., Katircioglu, M. et al. Real-time prediction of online shoppers’ purchasing intention using multilayer perceptron and LSTM recurrent neural networks. Neural Comput & Applic 31, 6893–6908 (2019). https://doi.org/10.1007/s00521-018-3523-0<br>\n",
    "\n",
    "\n",
    "<a name=\"carmonanote\"></a>3.[^](#carmona): C.J. Carmona, S. Ramírez-Gallego, F. Torres, E. Bernal, M.J. del Jesus, S. García,\n",
    "Web usage mining to improve the design of an e-commerce website: OrOliveSur.com,Expert Systems with Applications,Volume 39, Issue 12,2012,Pages 11243-11249,ISSN 0957-4174,https://doi.org/10.1016/j.eswa.2012.03.046(https://www.sciencedirect.com/science/article/pii/S0957417412005696)<br>\n"
   ]
  },
  {
   "cell_type": "code",
   "execution_count": null,
   "metadata": {},
   "outputs": [],
   "source": []
  }
 ],
 "metadata": {
  "kernelspec": {
   "display_name": "Python 3",
   "language": "python",
   "name": "python3"
  },
  "language_info": {
   "codemirror_mode": {
    "name": "ipython",
    "version": 3
   },
   "file_extension": ".py",
   "mimetype": "text/x-python",
   "name": "python",
   "nbconvert_exporter": "python",
   "pygments_lexer": "ipython3",
   "version": "3.8.5"
  }
 },
 "nbformat": 4,
 "nbformat_minor": 4
}
